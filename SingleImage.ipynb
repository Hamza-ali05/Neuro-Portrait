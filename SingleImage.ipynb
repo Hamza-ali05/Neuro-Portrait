{
  "cells": [
    {
      "cell_type": "code",
      "execution_count": null,
      "metadata": {
        "colab": {
          "base_uri": "https://localhost:8080/"
        },
        "id": "yUG07oF251kM",
        "outputId": "fcab0113-60a2-47ad-86bf-dfda8c11e0d7"
      },
      "outputs": [
        {
          "name": "stdout",
          "output_type": "stream",
          "text": [
            "Mounted at /content/gdrive\n"
          ]
        }
      ],
      "source": [
        "from google.colab import drive\n",
        "drive.mount('/content/gdrive', force_remount=True)"
      ]
    },
    {
      "cell_type": "code",
      "execution_count": null,
      "metadata": {
        "id": "y0pY2Arl6sE1"
      },
      "outputs": [],
      "source": []
    },
    {
      "cell_type": "code",
      "execution_count": null,
      "metadata": {
        "colab": {
          "base_uri": "https://localhost:8080/"
        },
        "id": "RrABRJSH6sJ1",
        "outputId": "267c6f1e-24f8-4b2e-bf5f-814a96c0920d"
      },
      "outputs": [
        {
          "name": "stdout",
          "output_type": "stream",
          "text": [
            "  Building wheel for tensorflow-docs (setup.py) ... \u001b[?25l\u001b[?25hdone\n"
          ]
        }
      ],
      "source": [
        "!pip install -q git+https://github.com/tensorflow/docs \n"
      ]
    },
    {
      "cell_type": "code",
      "execution_count": null,
      "metadata": {
        "id": "KR030yQ69hD_"
      },
      "outputs": [],
      "source": [
        "import os\n",
        "import tensorflow as tf\n",
        "import pandas as pd\n",
        "import numpy as np\n",
        "from tensorflow import keras\n",
        "from skimage.measure import block_reduce\n",
        "import time\n",
        "from IPython import display\n",
        "import matplotlib.pyplot as plt\n",
        "import tensorflow_docs.vis.embed as embed\n",
        "import glob\n",
        "import imageio"
      ]
    },
    {
      "cell_type": "code",
      "execution_count": null,
      "metadata": {
        "id": "PsJnuK7t9iS1"
      },
      "outputs": [],
      "source": [
        "image_sizes = {\"cryptopunks\": (32, 32)}\n",
        "batch_size = 75"
      ]
    },
    {
      "cell_type": "code",
      "execution_count": null,
      "metadata": {
        "colab": {
          "base_uri": "https://localhost:8080/"
        },
        "id": "YEVrcq5U9kQ1",
        "outputId": "814e1e7b-1896-456f-b2bf-16b439e3f850"
      },
      "outputs": [
        {
          "name": "stdout",
          "output_type": "stream",
          "text": [
            "Found 10561 files belonging to 2 classes.\n",
            "Using 8449 files for training.\n",
            "Found 10561 files belonging to 2 classes.\n",
            "Using 2112 files for validation.\n",
            "<MapDataset element_spec=(TensorSpec(shape=(None, 32, 32, 3), dtype=tf.float32, name=None), TensorSpec(shape=(None,), dtype=tf.int32, name=None))>\n"
          ]
        }
      ],
      "source": [
        "import tensorflow as tf\n",
        "\n",
        "def get_data(collection):\n",
        "    train_ds = tf.keras.preprocessing.image_dataset_from_directory(\n",
        "        collection,\n",
        "        validation_split=0.2,\n",
        "        subset=\"training\",\n",
        "        seed=1337,\n",
        "        image_size=image_sizes[\"cryptopunks\"],\n",
        "        batch_size=batch_size,\n",
        "    )\n",
        "    val_ds = tf.keras.preprocessing.image_dataset_from_directory(\n",
        "        collection,\n",
        "        validation_split=0.2,\n",
        "        subset=\"validation\",\n",
        "        seed=1337,\n",
        "        image_size=image_sizes[\"cryptopunks\"],\n",
        "        batch_size=batch_size,\n",
        "    )\n",
        "    return train_ds, val_ds\n",
        "\n",
        "train_ds, val_ds = get_data(\"/content/gdrive/MyDrive/cryptopunks\")\n",
        "\n",
        "def process(image,label):\n",
        "    image = tf.cast((image - 127.5)/127.5 ,tf.float32)\n",
        "    return image,label\n",
        "\n",
        "train_ds = train_ds.map(process)\n",
        "\n",
        "print(train_ds)\n",
        "\n",
        "# train_ds\n",
        "\n"
      ]
    },
    {
      "cell_type": "code",
      "execution_count": null,
      "metadata": {
        "id": "4Q9q9kD8BB9P"
      },
      "outputs": [],
      "source": [
        "for image, label in train_ds.take(1):  # only take first element of dataset\n",
        "    print(image)"
      ]
    },
    {
      "cell_type": "code",
      "execution_count": null,
      "metadata": {
        "colab": {
          "base_uri": "https://localhost:8080/"
        },
        "id": "0jwVm4l1BB_m",
        "outputId": "09e671e2-c955-4b39-9c37-a421c687a210"
      },
      "outputs": [
        {
          "name": "stdout",
          "output_type": "stream",
          "text": [
            "tf.Tensor(\n",
            "[[[[-0.22352941  0.04313726  0.1764706 ]\n",
            "   [-0.22352941  0.04313726  0.1764706 ]\n",
            "   [-0.22352941  0.04313726  0.1764706 ]\n",
            "   ...\n",
            "   [-0.22352941  0.04313726  0.1764706 ]\n",
            "   [-0.22352941  0.04313726  0.1764706 ]\n",
            "   [-0.22352941  0.04313726  0.1764706 ]]\n",
            "\n",
            "  [[-0.22352941  0.04313726  0.1764706 ]\n",
            "   [-0.22352941  0.04313726  0.1764706 ]\n",
            "   [-0.22352941  0.04313726  0.1764706 ]\n",
            "   ...\n",
            "   [-0.22352941  0.04313726  0.1764706 ]\n",
            "   [-0.22352941  0.04313726  0.1764706 ]\n",
            "   [-0.22352941  0.04313726  0.1764706 ]]\n",
            "\n",
            "  [[-0.22352941  0.04313726  0.1764706 ]\n",
            "   [-0.22352941  0.04313726  0.1764706 ]\n",
            "   [-0.22352941  0.04313726  0.1764706 ]\n",
            "   ...\n",
            "   [-0.22352941  0.04313726  0.1764706 ]\n",
            "   [-0.22352941  0.04313726  0.1764706 ]\n",
            "   [-0.22352941  0.04313726  0.1764706 ]]\n",
            "\n",
            "  ...\n",
            "\n",
            "  [[-0.22352941  0.04313726  0.1764706 ]\n",
            "   [-0.22352941  0.04313726  0.1764706 ]\n",
            "   [-0.22352941  0.04313726  0.1764706 ]\n",
            "   ...\n",
            "   [-0.22352941  0.04313726  0.1764706 ]\n",
            "   [-0.22352941  0.04313726  0.1764706 ]\n",
            "   [-0.22352941  0.04313726  0.1764706 ]]\n",
            "\n",
            "  [[-0.22352941  0.04313726  0.1764706 ]\n",
            "   [-0.22352941  0.04313726  0.1764706 ]\n",
            "   [-0.22352941  0.04313726  0.1764706 ]\n",
            "   ...\n",
            "   [-0.22352941  0.04313726  0.1764706 ]\n",
            "   [-0.22352941  0.04313726  0.1764706 ]\n",
            "   [-0.22352941  0.04313726  0.1764706 ]]\n",
            "\n",
            "  [[-0.22352941  0.04313726  0.1764706 ]\n",
            "   [-0.22352941  0.04313726  0.1764706 ]\n",
            "   [-0.22352941  0.04313726  0.1764706 ]\n",
            "   ...\n",
            "   [-0.22352941  0.04313726  0.1764706 ]\n",
            "   [-0.22352941  0.04313726  0.1764706 ]\n",
            "   [-0.22352941  0.04313726  0.1764706 ]]]\n",
            "\n",
            "\n",
            " [[[-0.22352941  0.04313726  0.1764706 ]\n",
            "   [-0.22352941  0.04313726  0.1764706 ]\n",
            "   [-0.22352941  0.04313726  0.1764706 ]\n",
            "   ...\n",
            "   [-0.22352941  0.04313726  0.1764706 ]\n",
            "   [-0.22352941  0.04313726  0.1764706 ]\n",
            "   [-0.22352941  0.04313726  0.1764706 ]]\n",
            "\n",
            "  [[-0.22352941  0.04313726  0.1764706 ]\n",
            "   [-0.22352941  0.04313726  0.1764706 ]\n",
            "   [-0.22352941  0.04313726  0.1764706 ]\n",
            "   ...\n",
            "   [-0.22352941  0.04313726  0.1764706 ]\n",
            "   [-0.22352941  0.04313726  0.1764706 ]\n",
            "   [-0.22352941  0.04313726  0.1764706 ]]\n",
            "\n",
            "  [[-0.22352941  0.04313726  0.1764706 ]\n",
            "   [-0.22352941  0.04313726  0.1764706 ]\n",
            "   [-0.22352941  0.04313726  0.1764706 ]\n",
            "   ...\n",
            "   [-0.22352941  0.04313726  0.1764706 ]\n",
            "   [-0.22352941  0.04313726  0.1764706 ]\n",
            "   [-0.22352941  0.04313726  0.1764706 ]]\n",
            "\n",
            "  ...\n",
            "\n",
            "  [[-0.22352941  0.04313726  0.1764706 ]\n",
            "   [-0.22352941  0.04313726  0.1764706 ]\n",
            "   [-0.22352941  0.04313726  0.1764706 ]\n",
            "   ...\n",
            "   [-0.22352941  0.04313726  0.1764706 ]\n",
            "   [-0.22352941  0.04313726  0.1764706 ]\n",
            "   [-0.22352941  0.04313726  0.1764706 ]]\n",
            "\n",
            "  [[-0.22352941  0.04313726  0.1764706 ]\n",
            "   [-0.22352941  0.04313726  0.1764706 ]\n",
            "   [-0.22352941  0.04313726  0.1764706 ]\n",
            "   ...\n",
            "   [-0.22352941  0.04313726  0.1764706 ]\n",
            "   [-0.22352941  0.04313726  0.1764706 ]\n",
            "   [-0.22352941  0.04313726  0.1764706 ]]\n",
            "\n",
            "  [[-0.22352941  0.04313726  0.1764706 ]\n",
            "   [-0.22352941  0.04313726  0.1764706 ]\n",
            "   [-0.22352941  0.04313726  0.1764706 ]\n",
            "   ...\n",
            "   [-0.22352941  0.04313726  0.1764706 ]\n",
            "   [-0.22352941  0.04313726  0.1764706 ]\n",
            "   [-0.22352941  0.04313726  0.1764706 ]]]\n",
            "\n",
            "\n",
            " [[[-0.22352941  0.04313726  0.1764706 ]\n",
            "   [-0.22352941  0.04313726  0.1764706 ]\n",
            "   [-0.22352941  0.04313726  0.1764706 ]\n",
            "   ...\n",
            "   [-0.22352941  0.04313726  0.1764706 ]\n",
            "   [-0.22352941  0.04313726  0.1764706 ]\n",
            "   [-0.22352941  0.04313726  0.1764706 ]]\n",
            "\n",
            "  [[-0.22352941  0.04313726  0.1764706 ]\n",
            "   [-0.22352941  0.04313726  0.1764706 ]\n",
            "   [-0.22352941  0.04313726  0.1764706 ]\n",
            "   ...\n",
            "   [-0.22352941  0.04313726  0.1764706 ]\n",
            "   [-0.22352941  0.04313726  0.1764706 ]\n",
            "   [-0.22352941  0.04313726  0.1764706 ]]\n",
            "\n",
            "  [[-0.22352941  0.04313726  0.1764706 ]\n",
            "   [-0.22352941  0.04313726  0.1764706 ]\n",
            "   [-0.22352941  0.04313726  0.1764706 ]\n",
            "   ...\n",
            "   [-0.22352941  0.04313726  0.1764706 ]\n",
            "   [-0.22352941  0.04313726  0.1764706 ]\n",
            "   [-0.22352941  0.04313726  0.1764706 ]]\n",
            "\n",
            "  ...\n",
            "\n",
            "  [[-0.22352941  0.04313726  0.1764706 ]\n",
            "   [-0.22352941  0.04313726  0.1764706 ]\n",
            "   [-0.22352941  0.04313726  0.1764706 ]\n",
            "   ...\n",
            "   [-0.22352941  0.04313726  0.1764706 ]\n",
            "   [-0.22352941  0.04313726  0.1764706 ]\n",
            "   [-0.22352941  0.04313726  0.1764706 ]]\n",
            "\n",
            "  [[-0.22352941  0.04313726  0.1764706 ]\n",
            "   [-0.22352941  0.04313726  0.1764706 ]\n",
            "   [-0.22352941  0.04313726  0.1764706 ]\n",
            "   ...\n",
            "   [-0.22352941  0.04313726  0.1764706 ]\n",
            "   [-0.22352941  0.04313726  0.1764706 ]\n",
            "   [-0.22352941  0.04313726  0.1764706 ]]\n",
            "\n",
            "  [[-0.22352941  0.04313726  0.1764706 ]\n",
            "   [-0.22352941  0.04313726  0.1764706 ]\n",
            "   [-0.22352941  0.04313726  0.1764706 ]\n",
            "   ...\n",
            "   [-0.22352941  0.04313726  0.1764706 ]\n",
            "   [-0.22352941  0.04313726  0.1764706 ]\n",
            "   [-0.22352941  0.04313726  0.1764706 ]]]\n",
            "\n",
            "\n",
            " ...\n",
            "\n",
            "\n",
            " [[[-0.22352941  0.04313726  0.1764706 ]\n",
            "   [-0.22352941  0.04313726  0.1764706 ]\n",
            "   [-0.22352941  0.04313726  0.1764706 ]\n",
            "   ...\n",
            "   [-0.22352941  0.04313726  0.1764706 ]\n",
            "   [-0.22352941  0.04313726  0.1764706 ]\n",
            "   [-0.22352941  0.04313726  0.1764706 ]]\n",
            "\n",
            "  [[-0.22352941  0.04313726  0.1764706 ]\n",
            "   [-0.22352941  0.04313726  0.1764706 ]\n",
            "   [-0.22352941  0.04313726  0.1764706 ]\n",
            "   ...\n",
            "   [-0.22352941  0.04313726  0.1764706 ]\n",
            "   [-0.22352941  0.04313726  0.1764706 ]\n",
            "   [-0.22352941  0.04313726  0.1764706 ]]\n",
            "\n",
            "  [[-0.22352941  0.04313726  0.1764706 ]\n",
            "   [-0.22352941  0.04313726  0.1764706 ]\n",
            "   [-0.22352941  0.04313726  0.1764706 ]\n",
            "   ...\n",
            "   [-0.22352941  0.04313726  0.1764706 ]\n",
            "   [-0.22352941  0.04313726  0.1764706 ]\n",
            "   [-0.22352941  0.04313726  0.1764706 ]]\n",
            "\n",
            "  ...\n",
            "\n",
            "  [[-0.22352941  0.04313726  0.1764706 ]\n",
            "   [-0.22352941  0.04313726  0.1764706 ]\n",
            "   [-0.22352941  0.04313726  0.1764706 ]\n",
            "   ...\n",
            "   [-0.22352941  0.04313726  0.1764706 ]\n",
            "   [-0.22352941  0.04313726  0.1764706 ]\n",
            "   [-0.22352941  0.04313726  0.1764706 ]]\n",
            "\n",
            "  [[-0.22352941  0.04313726  0.1764706 ]\n",
            "   [-0.22352941  0.04313726  0.1764706 ]\n",
            "   [-0.22352941  0.04313726  0.1764706 ]\n",
            "   ...\n",
            "   [-0.22352941  0.04313726  0.1764706 ]\n",
            "   [-0.22352941  0.04313726  0.1764706 ]\n",
            "   [-0.22352941  0.04313726  0.1764706 ]]\n",
            "\n",
            "  [[-0.22352941  0.04313726  0.1764706 ]\n",
            "   [-0.22352941  0.04313726  0.1764706 ]\n",
            "   [-0.22352941  0.04313726  0.1764706 ]\n",
            "   ...\n",
            "   [-0.22352941  0.04313726  0.1764706 ]\n",
            "   [-0.22352941  0.04313726  0.1764706 ]\n",
            "   [-0.22352941  0.04313726  0.1764706 ]]]\n",
            "\n",
            "\n",
            " [[[-0.22352941  0.04313726  0.1764706 ]\n",
            "   [-0.22352941  0.04313726  0.1764706 ]\n",
            "   [-0.22352941  0.04313726  0.1764706 ]\n",
            "   ...\n",
            "   [-0.22352941  0.04313726  0.1764706 ]\n",
            "   [-0.22352941  0.04313726  0.1764706 ]\n",
            "   [-0.22352941  0.04313726  0.1764706 ]]\n",
            "\n",
            "  [[-0.22352941  0.04313726  0.1764706 ]\n",
            "   [-0.22352941  0.04313726  0.1764706 ]\n",
            "   [-0.22352941  0.04313726  0.1764706 ]\n",
            "   ...\n",
            "   [-0.22352941  0.04313726  0.1764706 ]\n",
            "   [-0.22352941  0.04313726  0.1764706 ]\n",
            "   [-0.22352941  0.04313726  0.1764706 ]]\n",
            "\n",
            "  [[-0.22352941  0.04313726  0.1764706 ]\n",
            "   [-0.22352941  0.04313726  0.1764706 ]\n",
            "   [-0.22352941  0.04313726  0.1764706 ]\n",
            "   ...\n",
            "   [-0.22352941  0.04313726  0.1764706 ]\n",
            "   [-0.22352941  0.04313726  0.1764706 ]\n",
            "   [-0.22352941  0.04313726  0.1764706 ]]\n",
            "\n",
            "  ...\n",
            "\n",
            "  [[-0.22352941  0.04313726  0.1764706 ]\n",
            "   [-0.22352941  0.04313726  0.1764706 ]\n",
            "   [-0.22352941  0.04313726  0.1764706 ]\n",
            "   ...\n",
            "   [-0.22352941  0.04313726  0.1764706 ]\n",
            "   [-0.22352941  0.04313726  0.1764706 ]\n",
            "   [-0.22352941  0.04313726  0.1764706 ]]\n",
            "\n",
            "  [[-0.22352941  0.04313726  0.1764706 ]\n",
            "   [-0.22352941  0.04313726  0.1764706 ]\n",
            "   [-0.22352941  0.04313726  0.1764706 ]\n",
            "   ...\n",
            "   [-0.22352941  0.04313726  0.1764706 ]\n",
            "   [-0.22352941  0.04313726  0.1764706 ]\n",
            "   [-0.22352941  0.04313726  0.1764706 ]]\n",
            "\n",
            "  [[-0.22352941  0.04313726  0.1764706 ]\n",
            "   [-0.22352941  0.04313726  0.1764706 ]\n",
            "   [-0.22352941  0.04313726  0.1764706 ]\n",
            "   ...\n",
            "   [-0.22352941  0.04313726  0.1764706 ]\n",
            "   [-0.22352941  0.04313726  0.1764706 ]\n",
            "   [-0.22352941  0.04313726  0.1764706 ]]]\n",
            "\n",
            "\n",
            " [[[-0.22352941  0.04313726  0.1764706 ]\n",
            "   [-0.22352941  0.04313726  0.1764706 ]\n",
            "   [-0.22352941  0.04313726  0.1764706 ]\n",
            "   ...\n",
            "   [-0.22352941  0.04313726  0.1764706 ]\n",
            "   [-0.22352941  0.04313726  0.1764706 ]\n",
            "   [-0.22352941  0.04313726  0.1764706 ]]\n",
            "\n",
            "  [[-0.22352941  0.04313726  0.1764706 ]\n",
            "   [-0.22352941  0.04313726  0.1764706 ]\n",
            "   [-0.22352941  0.04313726  0.1764706 ]\n",
            "   ...\n",
            "   [-0.22352941  0.04313726  0.1764706 ]\n",
            "   [-0.22352941  0.04313726  0.1764706 ]\n",
            "   [-0.22352941  0.04313726  0.1764706 ]]\n",
            "\n",
            "  [[-0.22352941  0.04313726  0.1764706 ]\n",
            "   [-0.22352941  0.04313726  0.1764706 ]\n",
            "   [-0.22352941  0.04313726  0.1764706 ]\n",
            "   ...\n",
            "   [-0.22352941  0.04313726  0.1764706 ]\n",
            "   [-0.22352941  0.04313726  0.1764706 ]\n",
            "   [-0.22352941  0.04313726  0.1764706 ]]\n",
            "\n",
            "  ...\n",
            "\n",
            "  [[-0.22352941  0.04313726  0.1764706 ]\n",
            "   [-0.22352941  0.04313726  0.1764706 ]\n",
            "   [-0.22352941  0.04313726  0.1764706 ]\n",
            "   ...\n",
            "   [-0.22352941  0.04313726  0.1764706 ]\n",
            "   [-0.22352941  0.04313726  0.1764706 ]\n",
            "   [-0.22352941  0.04313726  0.1764706 ]]\n",
            "\n",
            "  [[-0.22352941  0.04313726  0.1764706 ]\n",
            "   [-0.22352941  0.04313726  0.1764706 ]\n",
            "   [-0.22352941  0.04313726  0.1764706 ]\n",
            "   ...\n",
            "   [-0.22352941  0.04313726  0.1764706 ]\n",
            "   [-0.22352941  0.04313726  0.1764706 ]\n",
            "   [-0.22352941  0.04313726  0.1764706 ]]\n",
            "\n",
            "  [[-0.22352941  0.04313726  0.1764706 ]\n",
            "   [-0.22352941  0.04313726  0.1764706 ]\n",
            "   [-0.22352941  0.04313726  0.1764706 ]\n",
            "   ...\n",
            "   [-0.22352941  0.04313726  0.1764706 ]\n",
            "   [-0.22352941  0.04313726  0.1764706 ]\n",
            "   [-0.22352941  0.04313726  0.1764706 ]]]], shape=(75, 32, 32, 3), dtype=float32)\n"
          ]
        }
      ],
      "source": [
        "for image, label in train_ds.take(1):  # only take first element of dataset\n",
        "    print(image)"
      ]
    },
    {
      "cell_type": "code",
      "execution_count": 7,
      "metadata": {
        "colab": {
          "base_uri": "https://localhost:8080/",
          "height": 591
        },
        "id": "gqNgtlJAPoJP",
        "outputId": "f6364ba0-aa08-4267-e14a-4c30a1448846"
      },
      "outputs": [
        {
          "output_type": "display_data",
          "data": {
            "text/plain": [
              "<Figure size 720x720 with 9 Axes>"
            ],
            "image/png": "[encoded data removed]"
          },
          "metadata": {
            "needs_background": "light"
          }
        }
      ],
      "source": [
        "plt.figure(figsize=(10, 10))\n",
        "for images, labels in train_ds.take(1):\n",
        "    for i in range(9):\n",
        "        ax = plt.subplot(3, 3, i + 1)\n",
        "        plt.imshow((127.5 + 127.5*images[i].numpy()).astype(\"uint8\"))\n",
        "        plt.title(int(labels[i]))\n",
        "        plt.axis(\"off\")"
      ]
    },
    {
      "cell_type": "code",
      "execution_count": 8,
      "metadata": {
        "id": "5G-W1MvoPoLe"
      },
      "outputs": [],
      "source": [
        "from tensorflow.keras import layers\n",
        "\n",
        "def make_generator_model():\n",
        "    model = tf.keras.Sequential()\n",
        "    model.add(layers.Dense(8*8*256, use_bias=False, input_shape=(100,)))\n",
        "    model.add(layers.BatchNormalization())\n",
        "    model.add(layers.LeakyReLU())\n",
        "\n",
        "    model.add(layers.Reshape((8, 8, 256)))\n",
        "\n",
        "    model.add(layers.Conv2DTranspose(128, (5, 5), strides=(1, 1), padding='same', use_bias=False))\n",
        "    model.add(layers.BatchNormalization())\n",
        "    model.add(layers.LeakyReLU())\n",
        "\n",
        "    model.add(layers.Conv2DTranspose(64, (5, 5), strides=(2, 2), padding='same', use_bias=False))\n",
        "    model.add(layers.BatchNormalization())\n",
        "    model.add(layers.LeakyReLU())\n",
        "    \n",
        "    model.add(layers.Conv2DTranspose(3, (5, 5), strides=(2, 2), padding='same', use_bias=False, activation='tanh'))\n",
        "\n",
        "    return model"
      ]
    },
    {
      "cell_type": "code",
      "execution_count": 9,
      "metadata": {
        "colab": {
          "base_uri": "https://localhost:8080/",
          "height": 283
        },
        "id": "hihH6nIpPumN",
        "outputId": "7cd7cc60-a75e-45ae-92cd-f82d16ef2f52"
      },
      "outputs": [
        {
          "output_type": "execute_result",
          "data": {
            "text/plain": [
              "<matplotlib.image.AxesImage at 0x7ff9d8dd9290>"
            ]
          },
          "metadata": {},
          "execution_count": 9
        },
        {
          "output_type": "display_data",
          "data": {
            "text/plain": [
              "<Figure size 432x288 with 1 Axes>"
            ],
            "image/png": "[encoded data removed]"
          },
          "metadata": {
            "needs_background": "light"
          }
        }
      ],
      "source": [
        "# Creating model\n",
        "generator = make_generator_model()\n",
        "\n",
        "# Length 100 noise vector\n",
        "noise = tf.random.normal([1, 100])\n",
        "\n",
        "generated_image = generator(noise, training=False)\n",
        "\n",
        "%matplotlib inline\n",
        "plt.imshow((127.5 + 127.5*generated_image[0, :, :, :].numpy()).astype(\"uint8\"), cmap='viridis')"
      ]
    },
    {
      "cell_type": "code",
      "execution_count": 10,
      "metadata": {
        "id": "ifcI73dIPxRl"
      },
      "outputs": [],
      "source": [
        "def make_discriminator_model():\n",
        "    \n",
        "    model = tf.keras.Sequential()\n",
        "    model.add(layers.Conv2D(64, (5, 5), strides=(2, 2), padding='same', input_shape=[32, 32, 3]))\n",
        "    model.add(layers.LeakyReLU())\n",
        "    model.add(layers.Dropout(0.3))\n",
        "\n",
        "    model.add(layers.Conv2D(128, (5, 5), strides=(2, 2), padding='same'))\n",
        "    model.add(layers.LeakyReLU())\n",
        "    model.add(layers.Dropout(0.3))\n",
        "\n",
        "    model.add(layers.Flatten())\n",
        "    model.add(layers.Dense(1))\n",
        "\n",
        "    return model"
      ]
    },
    {
      "cell_type": "code",
      "execution_count": 11,
      "metadata": {
        "colab": {
          "base_uri": "https://localhost:8080/"
        },
        "id": "dDvr7fRdPxT0",
        "outputId": "4c115564-df05-41e5-f3b2-d851df852a42"
      },
      "outputs": [
        {
          "output_type": "stream",
          "name": "stdout",
          "text": [
            "tf.Tensor([[0.00163696]], shape=(1, 1), dtype=float32)\n"
          ]
        }
      ],
      "source": [
        "discriminator = make_discriminator_model()\n",
        "\n",
        "decision = discriminator(generated_image)\n",
        "\n",
        "print (decision)"
      ]
    },
    {
      "cell_type": "code",
      "execution_count": 12,
      "metadata": {
        "id": "43rP9NkzPxWW"
      },
      "outputs": [],
      "source": [
        "cross_entropy = tf.keras.losses.BinaryCrossentropy(from_logits=True)\n",
        "\n",
        "def discriminator_loss(real_output, fake_output):\n",
        "    real_loss = cross_entropy(tf.ones_like(real_output), real_output)\n",
        "    fake_loss = cross_entropy(tf.zeros_like(fake_output), fake_output)\n",
        "    total_loss = real_loss + fake_loss\n",
        "    return total_loss\n",
        "\n",
        "def generator_loss(fake_output):\n",
        "    return cross_entropy(tf.ones_like(fake_output), fake_output)"
      ]
    },
    {
      "cell_type": "code",
      "execution_count": 13,
      "metadata": {
        "id": "BERKDUuOPz05"
      },
      "outputs": [],
      "source": [
        "generator_optimizer = tf.keras.optimizers.Adam(1e-4)\n",
        "discriminator_optimizer = tf.keras.optimizers.Adam(1e-4)"
      ]
    },
    {
      "cell_type": "code",
      "execution_count": 14,
      "metadata": {
        "id": "OT0JEtf5Pz3E"
      },
      "outputs": [],
      "source": [
        "noise_dim = 100\n",
        "num_examples_to_generate = 16\n",
        "\n",
        "seed = tf.random.normal([num_examples_to_generate, noise_dim])\n",
        "\n",
        "@tf.function\n",
        "def train_step(images):\n",
        "    noise = tf.random.normal([batch_size, noise_dim]) \n",
        "\n",
        "    with tf.GradientTape() as gen_tape, tf.GradientTape() as disc_tape:\n",
        "        generated_images = generator(noise, training=True)\n",
        "\n",
        "        real_output = discriminator(images, training=True)\n",
        "        fake_output = discriminator(generated_images, training=True)\n",
        "\n",
        "        gen_loss = generator_loss(fake_output)\n",
        "        disc_loss = discriminator_loss(real_output, fake_output)\n",
        "    \n",
        "    gradients_of_generator = gen_tape.gradient(gen_loss, generator.trainable_variables)\n",
        "    gradients_of_discriminator = disc_tape.gradient(disc_loss, discriminator.trainable_variables)\n",
        "\n",
        "    generator_optimizer.apply_gradients(zip(gradients_of_generator, generator.trainable_variables))\n",
        "    discriminator_optimizer.apply_gradients(zip(gradients_of_discriminator, discriminator.trainable_variables))"
      ]
    },
    {
      "cell_type": "code",
      "execution_count": 15,
      "metadata": {
        "id": "Sen9-wbsPz5m"
      },
      "outputs": [],
      "source": [
        "def train(dataset, epochs):\n",
        "    for epoch in range(epochs):\n",
        "        start = time.time()\n",
        "\n",
        "        for image_batch, labels in dataset:\n",
        "            train_step(image_batch)\n",
        "\n",
        "        display.clear_output(wait=True)\n",
        "        generate_and_save_images(generator, epoch + 1,seed)\n",
        "\n",
        "        print ('Time for epoch {} is {} sec'.format(epoch + 1, time.time()-start))\n",
        "\n",
        "    display.clear_output(wait=True)\n",
        "    generate_and_save_images(generator, epochs, seed)"
      ]
    },
    {
      "cell_type": "code",
      "execution_count": 63,
      "metadata": {
        "id": "aRUeZvilPz8E"
      },
      "outputs": [],
      "source": [
        "def generate_and_save_images(model, epoch, test_input):\n",
        "    predictions = model(test_input, training=False)\n",
        "\n",
        "    fig = plt.figure(figsize=(4, 4))\n",
        "\n",
        "    for i in range(predictions.shape[0]):\n",
        "        # plt.subplot(4, 4, i+1)\n",
        "        plt.imshow((127.5+predictions[i, :, :, :]*127.5).numpy().astype(\"uint8\"), cmap='viridis')\n",
        "        plt.axis('off')\n",
        "        plt.savefig('/content/epoch_images/image_at_epoch_{:04d}.png'.format(i))\n",
        "        plt.show()"
      ]
    },
    {
      "cell_type": "code",
      "execution_count": 64,
      "metadata": {
        "colab": {
          "base_uri": "https://localhost:8080/",
          "height": 1000
        },
        "id": "0CcPJmUNPz-W",
        "outputId": "8958a47d-6e88-4010-cd04-ef4da9b584ea"
      },
      "outputs": [
        {
          "output_type": "display_data",
          "data": {
            "text/plain": [
              "<Figure size 288x288 with 1 Axes>"
            ],
            "image/png": "[encoded data removed]"
          },
          "metadata": {
            "needs_background": "light"
          }
        },
        {
          "output_type": "display_data",
          "data": {
            "text/plain": [
              "<Figure size 432x288 with 1 Axes>"
            ],
            "image/png": "[encoded data removed]"
          },
          "metadata": {
            "needs_background": "light"
          }
        },
        {
          "output_type": "display_data",
          "data": {
            "text/plain": [
              "<Figure size 432x288 with 1 Axes>"
            ],
            "image/png": "[encoded data removed]"
          },
          "metadata": {
            "needs_background": "light"
          }
        },
        {
          "output_type": "display_data",
          "data": {
            "text/plain": [
              "<Figure size 432x288 with 1 Axes>"
            ],
            "image/png": "[encoded data removed]"
          },
          "metadata": {
            "needs_background": "light"
          }
        },
        {
          "output_type": "display_data",
          "data": {
            "text/plain": [
              "<Figure size 432x288 with 1 Axes>"
            ],
            "image/png": "[encoded data removed]"
          },
          "metadata": {
            "needs_background": "light"
          }
        },
        {
          "output_type": "display_data",
          "data": {
            "text/plain": [
              "<Figure size 432x288 with 1 Axes>"
            ],
            "image/png": "[encoded data removed]"
          },
          "metadata": {
            "needs_background": "light"
          }
        },
        {
          "output_type": "display_data",
          "data": {
            "text/plain": [
              "<Figure size 432x288 with 1 Axes>"
            ],
            "image/png": "[encoded data removed]"
          },
          "metadata": {
            "needs_background": "light"
          }
        },
        {
          "output_type": "display_data",
          "data": {
            "text/plain": [
              "<Figure size 432x288 with 1 Axes>"
            ],
            "image/png": "[encoded data removed]"
          },
          "metadata": {
            "needs_background": "light"
          }
        },
        {
          "output_type": "display_data",
          "data": {
            "text/plain": [
              "<Figure size 432x288 with 1 Axes>"
            ],
            "image/png": "[encoded data removed]"
          },
          "metadata": {
            "needs_background": "light"
          }
        },
        {
          "output_type": "display_data",
          "data": {
            "text/plain": [
              "<Figure size 432x288 with 1 Axes>"
            ],
            "image/png": "[encoded data removed]"
          },
          "metadata": {
            "needs_background": "light"
          }
        },
        {
          "output_type": "display_data",
          "data": {
            "text/plain": [
              "<Figure size 432x288 with 1 Axes>"
            ],
            "image/png": "[encoded data removed]"
          },
          "metadata": {
            "needs_background": "light"
          }
        },
        {
          "output_type": "display_data",
          "data": {
            "text/plain": [
              "<Figure size 432x288 with 1 Axes>"
            ],
            "image/png": "[encoded data removed]"
          },
          "metadata": {
            "needs_background": "light"
          }
        },
        {
          "output_type": "display_data",
          "data": {
            "text/plain": [
              "<Figure size 432x288 with 1 Axes>"
            ],
            "image/png": "[encoded data removed]"
          },
          "metadata": {
            "needs_background": "light"
          }
        },
        {
          "output_type": "display_data",
          "data": {
            "text/plain": [
              "<Figure size 432x288 with 1 Axes>"
            ],
            "image/png": "[encoded data removed]"
          },
          "metadata": {
            "needs_background": "light"
          }
        },
        {
          "output_type": "display_data",
          "data": {
            "text/plain": [
              "<Figure size 432x288 with 1 Axes>"
            ],
            "image/png": "[encoded data removed]"
          },
          "metadata": {
            "needs_background": "light"
          }
        },
        {
          "output_type": "display_data",
          "data": {
            "text/plain": [
              "<Figure size 432x288 with 1 Axes>"
            ],
            "image/png": "[encoded data removed]"
          },
          "metadata": {
            "needs_background": "light"
          }
        }
      ],
      "source": [
        "num_epochs = 1\n",
        "train(train_ds, num_epochs)\n",
        "\n"
      ]
    },
    {
      "cell_type": "code",
      "execution_count": 50,
      "metadata": {
        "id": "o__mzVvuP0Al"
      },
      "outputs": [],
      "source": [
        "\n"
      ]
    }
  ],
  "metadata": {
    "accelerator": "GPU",
    "colab": {
      "collapsed_sections": [],
      "provenance": []
    },
    "kernelspec": {
      "display_name": "Python 3",
      "name": "python3"
    },
    "language_info": {
      "name": "python"
    }
  },
  "nbformat": 4,
  "nbformat_minor": 0
}